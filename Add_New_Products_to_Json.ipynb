{
  "nbformat": 4,
  "nbformat_minor": 0,
  "metadata": {
    "colab": {
      "name": "Add_New_Products_to_Json.ipynb",
      "provenance": [],
      "include_colab_link": true
    },
    "kernelspec": {
      "name": "python3",
      "display_name": "Python 3"
    },
    "language_info": {
      "name": "python"
    }
  },
  "cells": [
    {
      "cell_type": "markdown",
      "metadata": {
        "id": "view-in-github",
        "colab_type": "text"
      },
      "source": [
        "<a href=\"https://colab.research.google.com/github/stymgupta/ETG-Internship/blob/main/Add_New_Products_to_Json.ipynb\" target=\"_parent\"><img src=\"https://colab.research.google.com/assets/colab-badge.svg\" alt=\"Open In Colab\"/></a>"
      ]
    },
    {
      "cell_type": "markdown",
      "metadata": {
        "id": "TwbEuN6iEyCP"
      },
      "source": [
        "**Summary of Products**"
      ]
    },
    {
      "cell_type": "markdown",
      "metadata": {
        "id": "3T402UuXEqNA"
      },
      "source": [
        "*Product* *Details* *on* *the* *basis of* Name, Category, Price, Quantity, Expiry Date & Brand"
      ]
    },
    {
      "cell_type": "code",
      "metadata": {
        "id": "xQspPUgxsOqf"
      },
      "source": [
        "products = {\n",
        "    1001 : {\"name\":\"One8 \",       \"category\":\"Deo\",             \"price\":190,  \"quan\":100,  \"expiry\":\"06 oct 2031\",  \"brand\":\"One8\"},\n",
        "    1002 : {\"name\":\"Durex\",       \"category\":\"Condom\",          \"price\":60,   \"quan\":130,  \"expiry\":\"12 jan 2025\",  \"brand\":\"durex\"},\n",
        "    1003 : {\"name\":\"Gold Flake\",  \"category\":\"Cigratte\",        \"price\":20,   \"quan\":145,  \"expiry\":\"10 mar 2023\",  \"brand\":\"Wills\"},\n",
        "    1004 : {\"name\":\"Vanilla mix\", \"category\":\"Icecream\",        \"price\":88,   \"quan\":122,  \"expiry\":\"23 oct 2021\",  \"brand\":\"Amul\"},\n",
        "    1005 : {\"name\":\"Chocolate\",   \"category\":\"Icecream\",        \"price\":285,  \"quan\":30,   \"expiry\":\"30 oct 2022\",  \"brand\":\"Amul\"},\n",
        "    1006 : {\"name\":\"Manforce\",    \"category\":\"Condom\",          \"price\":80,   \"quan\":58,   \"expiry\":\"29 jan 2022\",  \"brand\":\"Manforce\"},\n",
        "    1007 : {\"name\":\"Kitkat\",      \"category\":\"Chocolate\",       \"price\":55,   \"quan\":89,   \"expiry\":\"31 jan 2022\",  \"brand\":\"Nestle\"},\n",
        "    1008 : {\"name\":\"Maggie\",      \"category\":\"Food\",            \"price\":20,   \"quan\":90,   \"expiry\":\"21 feb 2022\",  \"brand\":\"Maggie\"},\n",
        "    1009 : {\"name\":\"Oats\",        \"category\":\"Food\",            \"price\":80,   \"quan\":105,  \"expiry\":\"28 dec 2024\",  \"brand\":\"Quaker\"},\n",
        "    1010 : {\"name\":\"Jam\",         \"category\":\"Snacks\",          \"price\":110,  \"quan\":95,   \"expiry\":\"01 jun 2022\",  \"brand\":\"Kissan\"},\n",
        "    1011 : {\"name\":\"Cake\",        \"category\":\"Snacks\",          \"price\":120,  \"quan\":100,  \"expiry\":\"15 jul 2022\",  \"brand\":\"Britania\"},\n",
        "    1012 : {\"name\":\"cookies\",     \"category\":\"Snacks\",          \"price\":90,   \"quan\":200, \"expiry\":\"02 dec 2021\",   \"brand\":\"Pillsbury\"},\n",
        "    1013 : {\"name\":\"Thumps Up\",   \"category\":\"SoftDrink\",       \"price\":49,   \"quan\":120, \"expiry\":\"30 dec 2021\",   \"brand\":\"Pepsi\"},\n",
        "    1014 : {\"name\":\"Sprite\",      \"category\":\"SoftDrink\",       \"price\":50,   \"quan\":180, \"expiry\":\"19 mar 2022\",   \"brand\":\"Coco Cola\"},\n",
        "    1015 : {\"name\":\"Rice\",        \"category\":\"Food\",            \"price\":90,   \"quan\":185, \"expiry\":\"19 feb 2022\",   \"brand\":\"Basmati\"},\n",
        "    1016 : {\"name\":\"Toor Pulse\",  \"category\":\"Food\",            \"price\":120,  \"quan\":190, \"expiry\":\"15 jan 2022\",   \"brand\":\"kitchenking\"},\n",
        "    1017 : {\"name\":\"Parle G\",     \"category\":\"Snacks\",          \"price\":67,   \"quan\":140, \"expiry\":\"13 dec 2011\",   \"brand\":\"Parle\"},\n",
        "    1018 : {\"name\":\"Lays Chips\",  \"category\":\"Snacks\",          \"price\":30,   \"quan\":450, \"expiry\":\"14 feb 2023\",   \"brand\":\"Lay's\"},\n",
        "    1019 : {\"name\":\"Lux\",         \"category\":\"Soap\",            \"price\":25,   \"quan\":440, \"expiry\":\"20 dec 2023\",   \"brand\":\"Lux\"},\n",
        "    1020 : {\"name\":\"Cornflakes\",  \"category\":\"Snacks\",          \"price\":85,   \"quan\":400, \"expiry\":\"25 jan 2024\",  \"brand\":\"Kellog's\"},\n",
        "    1021 : {\"name\":\"Nacho Chips\", \"category\":\"Snacks\",          \"price\":90,   \"quan\":360, \"expiry\":\"22 jan 2023\",  \"brand\":\"Dorito's\"},\n",
        "    1022 : {\"name\":\"Nirma\",       \"category\":\"Detergent\",       \"price\":40,   \"quan\":60,  \"expiry\":\"20 dec 2024\",  \"brand\":\"Nirma\"},\n",
        "    1023 : {\"name\":\"Papad\",       \"category\":\"Snacks\",          \"price\":55,   \"quan\":70,  \"expiry\":\"20 jun 2023\",  \"brand\":\"Bikano\"},\n",
        "    1024 : {\"name\":\"Coca-Cola\",   \"category\":\"SoftDrink\",       \"price\":65,   \"quan\":60,  \"expiry\":\"22 jul 2023\",  \"brand\":\"Coca Cola\"},\n",
        "    1025 : {\"name\":\"Lizol\",       \"category\":\"Antigent\",        \"price\":189,  \"quan\":40,  \"expiry\":\"20 nov 2023\",  \"brand\":\"Nirma\"},\n",
        "    1026 : {\"name\":\"Maxfresh\",    \"category\":\"Toothpaste\",      \"price\":215,  \"quan\":55,  \"expiry\":\"20 jun 2024\",  \"brand\":\"Colgate\"},\n",
        "    1027 : {\"name\":\"Pepsodent\",   \"category\":\"Toothpaste\",      \"price\":300,  \"quan\":150, \"expiry\":\"15 jul 2022\",  \"brand\":\"Pepsodent\"},\n",
        "    1028 : {\"name\":\"Hair Oil\",    \"category\":\"Oil\",             \"price\":247,  \"quan\":100, \"expiry\":\"10 aug 2024\",  \"brand\":\"DABUR\"},\n",
        "    1029 : {\"name\":\"Nivea Men\",   \"category\":\"Face Wash\",       \"price\":149,  \"quan\":98,  \"expiry\":\"31 jul 2022\",  \"brand\":\"Nivea\"},\n",
        "    1030 : {\"name\":\"Himalaya Herbal\",\"category\":\"Face Wash\",    \"price\":104, \"quan\":200,  \"expiry\":\"22 may 2022\",  \"brand\":\"Himalaya\"},\n",
        "    1031 : {\"name\":\"Baby Powder\", \"category\":\"Powder\",          \"price\":243,  \"quan\":150, \"expiry\":\"31 may 2024\",  \"brand\":\"Himalaya\"},\n",
        "    1032 : {\"name\":\"Nivea Talcum\",\"category\":\"Powder\",          \"price\":199,  \"quan\":120, \"expiry\":\"31 may 2024\",  \"brand\":\"Nivea\"},\n",
        "    1033 : {\"name\":\"Fogg Xtremo \",\"category\":\"Deo\",             \"price\":299,  \"quan\":155, \"expiry\":\"01 jan 2024\",  \"brand\":\"FOGG\"},\n",
        "    1034 : {\"name\":\"Vilain\",      \"category\":\"Deo\",             \"price\":555,  \"quan\":230, \"expiry\":\"31 may 2024\",  \"brand\":\"Villian\"},\n",
        "    1035 : {\"name\":\"Dairy Milk\",  \"category\":\"Snacks\",          \"price\":475,  \"quan\":50,  \"expiry\":\"31 jan 2022\",  \"brand\":\"Cadbury\"},\n",
        "    1036 : {\"name\": \"Detol\",      \"category\":\"Handwash\",        \"price\":75,   \"quan\":50,  \"expiry\":\"31 jan 2022\",  \"brand\":\"Detol\" }\n",
        "}"
      ],
      "execution_count": null,
      "outputs": []
    },
    {
      "cell_type": "code",
      "metadata": {
        "id": "6yhgslEdFaWX"
      },
      "source": [
        "import json"
      ],
      "execution_count": null,
      "outputs": []
    },
    {
      "cell_type": "code",
      "metadata": {
        "id": "PhLK_2u_Meo-"
      },
      "source": [
        "js = json.dumps(products)"
      ],
      "execution_count": null,
      "outputs": []
    },
    {
      "cell_type": "code",
      "metadata": {
        "id": "wQ-mIYSsNAWJ"
      },
      "source": [
        "fd = open(\"products.json\",\"w\")\n",
        "fd.write(js)\n",
        "fd.close()\n"
      ],
      "execution_count": null,
      "outputs": []
    },
    {
      "cell_type": "markdown",
      "metadata": {
        "id": "HAHC6MnvMy9h"
      },
      "source": [
        "Reading the Data"
      ]
    },
    {
      "cell_type": "code",
      "metadata": {
        "id": "HRw7iBopM1Dx"
      },
      "source": [
        "fd = open(\"products.json\",'r')\n",
        "\n",
        "r = fd.read()\n",
        "\n",
        "fd.close()"
      ],
      "execution_count": null,
      "outputs": []
    },
    {
      "cell_type": "code",
      "metadata": {
        "id": "o3aUffAkNFXq"
      },
      "source": [
        "products = json.loads(r)"
      ],
      "execution_count": null,
      "outputs": []
    },
    {
      "cell_type": "code",
      "metadata": {
        "colab": {
          "base_uri": "https://localhost:8080/"
        },
        "id": "oDUDB6xaNUz9",
        "outputId": "b350f8f7-7139-4b80-c1cd-1a7e19d42ba2"
      },
      "source": [
        "products"
      ],
      "execution_count": null,
      "outputs": [
        {
          "output_type": "execute_result",
          "data": {
            "text/plain": [
              "{'1001': {'brand': 'One8',\n",
              "  'category': 'Deo',\n",
              "  'expiry': '06 oct 2031',\n",
              "  'name': 'One8 ',\n",
              "  'price': 190,\n",
              "  'quan': 100},\n",
              " '1002': {'brand': 'durex',\n",
              "  'category': 'Condom',\n",
              "  'expiry': '12 jan 2025',\n",
              "  'name': 'Durex',\n",
              "  'price': 60,\n",
              "  'quan': 130},\n",
              " '1003': {'brand': 'Wills',\n",
              "  'category': 'Cigratte',\n",
              "  'expiry': '10 mar 2023',\n",
              "  'name': 'Gold Flake',\n",
              "  'price': 20,\n",
              "  'quan': 145},\n",
              " '1004': {'brand': 'Amul',\n",
              "  'category': 'Icecream',\n",
              "  'expiry': '23 oct 2021',\n",
              "  'name': 'Vanilla mix',\n",
              "  'price': 88,\n",
              "  'quan': 122},\n",
              " '1005': {'brand': 'Amul',\n",
              "  'category': 'Icecream',\n",
              "  'expiry': '30 oct 2022',\n",
              "  'name': 'Chocolate',\n",
              "  'price': 285,\n",
              "  'quan': 30},\n",
              " '1006': {'brand': 'Manforce',\n",
              "  'category': 'Condom',\n",
              "  'expiry': '29 jan 2022',\n",
              "  'name': 'Manforce',\n",
              "  'price': 80,\n",
              "  'quan': 58},\n",
              " '1007': {'brand': 'Nestle',\n",
              "  'category': 'Chocolate',\n",
              "  'expiry': '31 jan 2022',\n",
              "  'name': 'Kitkat',\n",
              "  'price': 55,\n",
              "  'quan': 89},\n",
              " '1008': {'brand': 'Maggie',\n",
              "  'category': 'Food',\n",
              "  'expiry': '21 feb 2022',\n",
              "  'name': 'Maggie',\n",
              "  'price': 20,\n",
              "  'quan': 90},\n",
              " '1009': {'brand': 'Quaker',\n",
              "  'category': 'Food',\n",
              "  'expiry': '28 dec 2024',\n",
              "  'name': 'Oats',\n",
              "  'price': 80,\n",
              "  'quan': 105},\n",
              " '1010': {'brand': 'Kissan',\n",
              "  'category': 'Snacks',\n",
              "  'expiry': '01 jun 2022',\n",
              "  'name': 'Jam',\n",
              "  'price': 110,\n",
              "  'quan': 95},\n",
              " '1011': {'brand': 'Britania',\n",
              "  'category': 'Snacks',\n",
              "  'expiry': '15 jul 2022',\n",
              "  'name': 'Cake',\n",
              "  'price': 120,\n",
              "  'quan': 100},\n",
              " '1012': {'brand': 'Pillsbury',\n",
              "  'category': 'Snacks',\n",
              "  'expiry': '02 dec 2021',\n",
              "  'name': 'cookies',\n",
              "  'price': 90,\n",
              "  'quan': 200},\n",
              " '1013': {'brand': 'Pepsi',\n",
              "  'category': 'SoftDrink',\n",
              "  'expiry': '30 dec 2021',\n",
              "  'name': 'Thumps Up',\n",
              "  'price': 49,\n",
              "  'quan': 120},\n",
              " '1014': {'brand': 'Coco Cola',\n",
              "  'category': 'SoftDrink',\n",
              "  'expiry': '19 mar 2022',\n",
              "  'name': 'Sprite',\n",
              "  'price': 50,\n",
              "  'quan': 180},\n",
              " '1015': {'brand': 'Basmati',\n",
              "  'category': 'Food',\n",
              "  'expiry': '19 feb 2022',\n",
              "  'name': 'Rice',\n",
              "  'price': 90,\n",
              "  'quan': 185},\n",
              " '1016': {'brand': 'kitchenking',\n",
              "  'category': 'Food',\n",
              "  'expiry': '15 jan 2022',\n",
              "  'name': 'Toor Pulse',\n",
              "  'price': 120,\n",
              "  'quan': 190},\n",
              " '1017': {'brand': 'Parle',\n",
              "  'category': 'Snacks',\n",
              "  'expiry': '13 dec 2011',\n",
              "  'name': 'Parle G',\n",
              "  'price': 67,\n",
              "  'quan': 140},\n",
              " '1018': {'brand': \"Lay's\",\n",
              "  'category': 'Snacks',\n",
              "  'expiry': '14 feb 2023',\n",
              "  'name': 'Lays Chips',\n",
              "  'price': 30,\n",
              "  'quan': 450},\n",
              " '1019': {'brand': 'Lux',\n",
              "  'category': 'Soap',\n",
              "  'expiry': '20 dec 2023',\n",
              "  'name': 'Lux',\n",
              "  'price': 25,\n",
              "  'quan': 440},\n",
              " '1020': {'brand': \"Kellog's\",\n",
              "  'category': 'Snacks',\n",
              "  'expiry': '25 jan 2024',\n",
              "  'name': 'Cornflakes',\n",
              "  'price': 85,\n",
              "  'quan': 400},\n",
              " '1021': {'brand': \"Dorito's\",\n",
              "  'category': 'Snacks',\n",
              "  'expiry': '22 jan 2023',\n",
              "  'name': 'Nacho Chips',\n",
              "  'price': 90,\n",
              "  'quan': 360},\n",
              " '1022': {'brand': 'Nirma',\n",
              "  'category': 'Detergent',\n",
              "  'expiry': '20 dec 2024',\n",
              "  'name': 'Nirma',\n",
              "  'price': 40,\n",
              "  'quan': 60},\n",
              " '1023': {'brand': 'Bikano',\n",
              "  'category': 'Snacks',\n",
              "  'expiry': '20 jun 2023',\n",
              "  'name': 'Papad',\n",
              "  'price': 55,\n",
              "  'quan': 70},\n",
              " '1024': {'brand': 'Coca Cola',\n",
              "  'category': 'SoftDrink',\n",
              "  'expiry': '22 jul 2023',\n",
              "  'name': 'Coca-Cola',\n",
              "  'price': 65,\n",
              "  'quan': 60},\n",
              " '1025': {'brand': 'Nirma',\n",
              "  'category': 'Antigent',\n",
              "  'expiry': '20 nov 2023',\n",
              "  'name': 'Lizol',\n",
              "  'price': 189,\n",
              "  'quan': 40},\n",
              " '1026': {'brand': 'Colgate',\n",
              "  'category': 'Toothpaste',\n",
              "  'expiry': '20 jun 2024',\n",
              "  'name': 'Maxfresh',\n",
              "  'price': 215,\n",
              "  'quan': 55},\n",
              " '1027': {'brand': 'Pepsodent',\n",
              "  'category': 'Toothpaste',\n",
              "  'expiry': '15 jul 2022',\n",
              "  'name': 'Pepsodent',\n",
              "  'price': 300,\n",
              "  'quan': 150},\n",
              " '1028': {'brand': 'DABUR',\n",
              "  'category': 'Oil',\n",
              "  'expiry': '10 aug 2024',\n",
              "  'name': 'Hair Oil',\n",
              "  'price': 247,\n",
              "  'quan': 100},\n",
              " '1029': {'brand': 'Nivea',\n",
              "  'category': 'Face Wash',\n",
              "  'expiry': '31 jul 2022',\n",
              "  'name': 'Nivea Men',\n",
              "  'price': 149,\n",
              "  'quan': 98},\n",
              " '1030': {'brand': 'Himalaya',\n",
              "  'category': 'Face Wash',\n",
              "  'expiry': '22 may 2022',\n",
              "  'name': 'Himalaya Herbal',\n",
              "  'price': 104,\n",
              "  'quan': 200},\n",
              " '1031': {'brand': 'Himalaya',\n",
              "  'category': 'Powder',\n",
              "  'expiry': '31 may 2024',\n",
              "  'name': 'Baby Powder',\n",
              "  'price': 243,\n",
              "  'quan': 150},\n",
              " '1032': {'brand': 'Nivea',\n",
              "  'category': 'Powder',\n",
              "  'expiry': '31 may 2024',\n",
              "  'name': 'Nivea Talcum',\n",
              "  'price': 199,\n",
              "  'quan': 120},\n",
              " '1033': {'brand': 'FOGG',\n",
              "  'category': 'Deo',\n",
              "  'expiry': '01 jan 2024',\n",
              "  'name': 'Fogg Xtremo ',\n",
              "  'price': 299,\n",
              "  'quan': 155},\n",
              " '1034': {'brand': 'Villian',\n",
              "  'category': 'Deo',\n",
              "  'expiry': '31 may 2024',\n",
              "  'name': 'Vilain',\n",
              "  'price': 555,\n",
              "  'quan': 230},\n",
              " '1035': {'brand': 'Cadbury',\n",
              "  'category': 'Snacks',\n",
              "  'expiry': '31 jan 2022',\n",
              "  'name': 'Dairy Milk',\n",
              "  'price': 475,\n",
              "  'quan': 50},\n",
              " '1036': {'brand': 'Detol',\n",
              "  'category': 'Handwash',\n",
              "  'expiry': '31 jan 2022',\n",
              "  'name': 'Detol',\n",
              "  'price': 75,\n",
              "  'quan': 50}}"
            ]
          },
          "metadata": {},
          "execution_count": 18
        }
      ]
    },
    {
      "cell_type": "code",
      "metadata": {
        "colab": {
          "base_uri": "https://localhost:8080/"
        },
        "id": "r7NXxUjrNtXd",
        "outputId": "9b312302-469b-4681-c100-059b068a7933"
      },
      "source": [
        "\n",
        "prod_id = input(\"Enter the Product ID: \")\n",
        "name = input(\"Enter the Name of the product: \")\n",
        "category = input(\"Enter the Category of the product: \")\n",
        "price = int(input(\"Enter the price of the product: \"))\n",
        "quan = int(input(\"Enter The Quantity of the product: \"))\n",
        "expiry = input(\"Enter the expiry date of the Product: \")\n",
        "brand = input(\"Enter the Brand of the product: \")\n",
        "\n",
        "products[prod_id] = {\"name\":name,\"category\":category,\"price\":price,\"quan\":quan,\"expiry\":expiry,\"brand\":brand}\n",
        "\n",
        "js = json.dumps(products)\n",
        "\n",
        "fd = open(\"products.json\",\"w\")\n",
        "fd.write(js)\n",
        "fd.close()"
      ],
      "execution_count": null,
      "outputs": [
        {
          "name": "stdout",
          "output_type": "stream",
          "text": [
            "Enter the Product ID: 1039\n",
            "Enter the Name of the product: All out\n",
            "Enter the Category of the product: Anti Mosquito\n",
            "Enter the price of the product: 200\n",
            "Enter The Quantity of the product: 300\n",
            "Enter the expiry date of the Product: 20 aug 2023\n",
            "Enter the Brand of the product: All Out\n"
          ]
        }
      ]
    }
  ]
}